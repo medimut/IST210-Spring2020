{
  "nbformat": 4,
  "nbformat_minor": 0,
  "metadata": {
    "colab": {
      "name": "Untitled1.ipynb",
      "provenance": [],
      "authorship_tag": "ABX9TyNpFEJF/MJ9tN1ZzzIIK/VZ",
      "include_colab_link": true
    },
    "kernelspec": {
      "name": "python3",
      "display_name": "Python 3"
    }
  },
  "cells": [
    {
      "cell_type": "markdown",
      "metadata": {
        "id": "view-in-github",
        "colab_type": "text"
      },
      "source": [
        "<a href=\"https://colab.research.google.com/github/mts5748/IST210-Spring2020/blob/master/lab2.ipynb\" target=\"_parent\"><img src=\"https://colab.research.google.com/assets/colab-badge.svg\" alt=\"Open In Colab\"/></a>"
      ]
    },
    {
      "cell_type": "markdown",
      "metadata": {
        "id": "-LTiWTnN16ZL",
        "colab_type": "text"
      },
      "source": [
        "![alt text](https://raw.githubusercontent.com/mts5748/IST210-Spring2020/master/Lab%202%20-%20Pet%20shop/petshop.png)"
      ]
    },
    {
      "cell_type": "markdown",
      "metadata": {
        "id": "l_lz0Aqm2LZj",
        "colab_type": "text"
      },
      "source": [
        ""
      ]
    }
  ]
}