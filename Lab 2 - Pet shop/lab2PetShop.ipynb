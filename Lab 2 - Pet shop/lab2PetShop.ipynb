{
  "nbformat": 4,
  "nbformat_minor": 0,
  "metadata": {
    "colab": {
      "name": "lab2PetShop.ipynb",
      "provenance": [],
      "collapsed_sections": [],
      "authorship_tag": "ABX9TyOYr/WrbvLovuKYLCxJ7t24",
      "include_colab_link": true
    },
    "kernelspec": {
      "name": "python3",
      "display_name": "Python 3"
    }
  },
  "cells": [
    {
      "cell_type": "markdown",
      "metadata": {
        "id": "view-in-github",
        "colab_type": "text"
      },
      "source": [
        "<a href=\"https://colab.research.google.com/github/mts5748/IST210-Spring2020/blob/master/Lab%202%20-%20Pet%20shop/lab2PetShop.ipynb\" target=\"_parent\"><img src=\"https://colab.research.google.com/assets/colab-badge.svg\" alt=\"Open In Colab\"/></a>"
      ]
    },
    {
      "cell_type": "markdown",
      "metadata": {
        "id": "ytOFU9t1SBM-",
        "colab_type": "text"
      },
      "source": [
        "#Meddelin Trinita Setiawan\n",
        "\n",
        "\n"
      ]
    },
    {
      "cell_type": "markdown",
      "metadata": {
        "id": "8MWa5zQJSOS9",
        "colab_type": "text"
      },
      "source": [
        "###February 17th 2020"
      ]
    },
    {
      "cell_type": "markdown",
      "metadata": {
        "id": "_oDXfdD1SRIi",
        "colab_type": "text"
      },
      "source": [
        "###**Lab 2: Pet Shop ER Diagram**"
      ]
    },
    {
      "cell_type": "markdown",
      "metadata": {
        "id": "OrVtNawzRr3I",
        "colab_type": "text"
      },
      "source": [
        "![alt text](https://raw.githubusercontent.com/mts5748/IST210-Spring2020/master/Lab%202%20-%20Pet%20shop/petshop.png)"
      ]
    },
    {
      "cell_type": "markdown",
      "metadata": {
        "id": "zavwMhFlRvjx",
        "colab_type": "text"
      },
      "source": [
        "  This ER diagram shows the entities needed in a petshop’s database with its attributes and relationship between one another. In this database, Pets, Customers, and Food are the main subject, while Enclosure and Food serves as an additional information to Pets entity, and PetPurchase and FoodPurchase are both end-user entities that shows a transaction between the other four main entities. Enclosure entity gives the Pets entity information in terms of where each pets live/placed, hence the relationship name “lives”. Food entity gives the Pets entity information in terms of the specific food every pets eat, hence the relationship name “feed”. PetPurchase entity involves Pets and Customers entities, having “purchase” both as their relationship name because pets are being purchased in the PetPurchase and customers are the ones who purchased it. Similarly, FoodPurchase involves Food and Customers entities, also having “purchase” as their relationship name. As how the owner of the pet shop wants it, PetPurchase and FoodPurchase are set up separately."
      ]
    },
    {
      "cell_type": "markdown",
      "metadata": {
        "id": "ZGH0rJ85UHgg",
        "colab_type": "text"
      },
      "source": [
        "After understanding the relationships between the entities, it is also important to know the connectivity and cardinality between each other. "
      ]
    },
    {
      "cell_type": "markdown",
      "metadata": {
        "id": "Pb0tdEoEUI4Q",
        "colab_type": "text"
      },
      "source": [
        "*PetPurchase* – *Customers* \n",
        "-\tEach Customers may or may not purchase a pet, and the maximum number of pets they will probably purchase is 10 pets.\n",
        "-\tEach PetPurchase (a transaction of pets) will certainly purchased by one customer and only one customer. "
      ]
    },
    {
      "cell_type": "markdown",
      "metadata": {
        "id": "JjbAEE-CURYf",
        "colab_type": "text"
      },
      "source": [
        "*PetPurchase* – *Pets*\n",
        "-\tEach pet can have only two options, being purchased or not. Hence the cardinality (0,1).\n",
        "-\tEach PetPurchase will purchase at least 1 pet and the maximum number of pets when purchasing is 10 pets."
      ]
    },
    {
      "cell_type": "markdown",
      "metadata": {
        "id": "n8KCpx-nUWgS",
        "colab_type": "text"
      },
      "source": [
        "*FoodPurchase* – *Customers*\n",
        "-\tEach Customers may or may not purchase pet food, and the maximum number of purchasing pet food is 10.\n",
        "-\tEach FoodPurchase will certainly purchased by one customer and only one customer. "
      ]
    },
    {
      "cell_type": "markdown",
      "metadata": {
        "id": "xhw62Zh0UaRU",
        "colab_type": "text"
      },
      "source": [
        "*FoodPurchase* – *Food* \n",
        "-\tEach food can have only two options, being purchased or not. Hence the cardinality (0,1).\n",
        "-\tEach FoodPurchase will purchase at least 1 food and the maximum number of purchasing pet food is 10."
      ]
    },
    {
      "cell_type": "markdown",
      "metadata": {
        "id": "gsXbEHAPUeEn",
        "colab_type": "text"
      },
      "source": [
        "*Pets* – *Enclosure*\n",
        "-\tEach pet will have one and only one enclosure.\n",
        "-\tEach enclosure can possibly not have any pets inside and can have pets up to 20 pets."
      ]
    },
    {
      "cell_type": "markdown",
      "metadata": {
        "id": "RQJqFMjSUiEh",
        "colab_type": "text"
      },
      "source": [
        "*Pets* – *Food* \n",
        "-\tEach pet will have one and only one food.\n",
        "-\tEach food can possibly not fed to any pet in the pet shop, and can also be fed to up to 20 pets. "
      ]
    }
  ]
}