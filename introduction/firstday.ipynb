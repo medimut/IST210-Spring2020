{
  "nbformat": 4,
  "nbformat_minor": 0,
  "metadata": {
    "colab": {
      "name": "firstday.ipynb",
      "provenance": [],
      "authorship_tag": "ABX9TyNd3Wkj2JOCA4iZ0EA6sWna",
      "include_colab_link": true
    },
    "kernelspec": {
      "name": "python3",
      "display_name": "Python 3"
    }
  },
  "cells": [
    {
      "cell_type": "markdown",
      "metadata": {
        "id": "view-in-github",
        "colab_type": "text"
      },
      "source": [
        "<a href=\"https://colab.research.google.com/github/mts5748/IST210-Spring2020/blob/master/introduction/firstday.ipynb\" target=\"_parent\"><img src=\"https://colab.research.google.com/assets/colab-badge.svg\" alt=\"Open In Colab\"/></a>"
      ]
    },
    {
      "cell_type": "code",
      "metadata": {
        "id": "iTbuihLJzZ3b",
        "colab_type": "code",
        "colab": {
          "base_uri": "https://localhost:8080/",
          "height": 34
        },
        "outputId": "dda09c38-baaa-48da-9f8f-1e102d9c6e4b"
      },
      "source": [
        "2+2"
      ],
      "execution_count": 4,
      "outputs": [
        {
          "output_type": "execute_result",
          "data": {
            "text/plain": [
              "4"
            ]
          },
          "metadata": {
            "tags": []
          },
          "execution_count": 4
        }
      ]
    },
    {
      "cell_type": "code",
      "metadata": {
        "id": "D68QlhkQzvhc",
        "colab_type": "code",
        "colab": {
          "base_uri": "https://localhost:8080/",
          "height": 34
        },
        "outputId": "d1b25acd-05a1-4e3f-f6a5-bfd37236c647"
      },
      "source": [
        "2+3"
      ],
      "execution_count": 5,
      "outputs": [
        {
          "output_type": "execute_result",
          "data": {
            "text/plain": [
              "5"
            ]
          },
          "metadata": {
            "tags": []
          },
          "execution_count": 5
        }
      ]
    },
    {
      "cell_type": "markdown",
      "metadata": {
        "id": "W7KTu0SWznUb",
        "colab_type": "text"
      },
      "source": [
        "This is my first **notebook**! *Hahaha*!"
      ]
    },
    {
      "cell_type": "code",
      "metadata": {
        "id": "-6tQCni8zoCO",
        "colab_type": "code",
        "colab": {}
      },
      "source": [
        ""
      ],
      "execution_count": 0,
      "outputs": []
    },
    {
      "cell_type": "markdown",
      "metadata": {
        "id": "C6O2YpFj0qZQ",
        "colab_type": "text"
      },
      "source": [
        "# this is a header\n"
      ]
    },
    {
      "cell_type": "markdown",
      "metadata": {
        "id": "tLp1prjQ4KZh",
        "colab_type": "text"
      },
      "source": [
        "![alt text](https://raw.githubusercontent.com/mts5748/IST210-Spring2020/master/introduction/Screen%20Shot%202020-01-12%20at%201.06.00%20AM.png)\n",
        "Click download image from GitHub, then copy the URL of the new tab.\n",
        "Paste it on this text cell. Make sure to use ()"
      ]
    }
  ]
}