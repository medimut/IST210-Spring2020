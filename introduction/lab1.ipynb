{
  "nbformat": 4,
  "nbformat_minor": 0,
  "metadata": {
    "colab": {
      "name": "lab1.ipynb",
      "provenance": [],
      "authorship_tag": "ABX9TyPe8FZGv+gGT5wgRQ1vn80/",
      "include_colab_link": true
    },
    "kernelspec": {
      "name": "python3",
      "display_name": "Python 3"
    }
  },
  "cells": [
    {
      "cell_type": "markdown",
      "metadata": {
        "id": "view-in-github",
        "colab_type": "text"
      },
      "source": [
        "<a href=\"https://colab.research.google.com/github/mts5748/IST210-Spring2020/blob/master/introduction/lab1.ipynb\" target=\"_parent\"><img src=\"https://colab.research.google.com/assets/colab-badge.svg\" alt=\"Open In Colab\"/></a>"
      ]
    },
    {
      "cell_type": "markdown",
      "metadata": {
        "id": "lUCPLQoHE2CK",
        "colab_type": "text"
      },
      "source": [
        "### My Name \n",
        "Meddelin Trinita Setiawan"
      ]
    },
    {
      "cell_type": "markdown",
      "metadata": {
        "id": "RwEfiFKUFM-4",
        "colab_type": "text"
      },
      "source": [
        "### IST related interest\n",
        "I am now in Engineering Pre-major Undecided and one my choices of major is Data Science. I am very interested in learning to analyze and make use of Big Data, therefore I take this class. "
      ]
    },
    {
      "cell_type": "markdown",
      "metadata": {
        "id": "arx78gloFlLT",
        "colab_type": "text"
      },
      "source": [
        "### Future Career \n",
        "I am planning to open a start-up maybe in the field of environmental engineering. "
      ]
    },
    {
      "cell_type": "markdown",
      "metadata": {
        "id": "3KXaZZ_TF-wQ",
        "colab_type": "text"
      },
      "source": [
        "![alt text](https://raw.githubusercontent.com/mts5748/IST210-Spring2020/master/introduction/Screen%20Shot%202020-01-17%20at%2010.14.55%20AM.png)"
      ]
    }
  ]
}